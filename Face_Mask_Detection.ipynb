{
  "nbformat": 4,
  "nbformat_minor": 0,
  "metadata": {
    "colab": {
      "name": "Face Mask Detection.ipynb",
      "provenance": [],
      "collapsed_sections": []
    },
    "kernelspec": {
      "name": "python3",
      "display_name": "Python 3"
    },
    "language_info": {
      "name": "python"
    }
  },
  "cells": [
    {
      "cell_type": "code",
      "metadata": {
        "colab": {
          "base_uri": "https://localhost:8080/"
        },
        "id": "9Jl3XpHPzPvY",
        "outputId": "ceac76a3-c51d-4577-ca41-765d199687fc"
      },
      "source": [
        "!pip install opendatasets"
      ],
      "execution_count": 34,
      "outputs": [
        {
          "output_type": "stream",
          "text": [
            "Requirement already satisfied: opendatasets in /usr/local/lib/python3.7/dist-packages (0.1.13)\n",
            "Requirement already satisfied: kaggle in /usr/local/lib/python3.7/dist-packages (from opendatasets) (1.5.12)\n",
            "Requirement already satisfied: tqdm in /usr/local/lib/python3.7/dist-packages (from opendatasets) (4.41.1)\n",
            "Requirement already satisfied: click in /usr/local/lib/python3.7/dist-packages (from opendatasets) (7.1.2)\n",
            "Requirement already satisfied: python-dateutil in /usr/local/lib/python3.7/dist-packages (from kaggle->opendatasets) (2.8.1)\n",
            "Requirement already satisfied: six>=1.10 in /usr/local/lib/python3.7/dist-packages (from kaggle->opendatasets) (1.15.0)\n",
            "Requirement already satisfied: requests in /usr/local/lib/python3.7/dist-packages (from kaggle->opendatasets) (2.23.0)\n",
            "Requirement already satisfied: python-slugify in /usr/local/lib/python3.7/dist-packages (from kaggle->opendatasets) (5.0.2)\n",
            "Requirement already satisfied: certifi in /usr/local/lib/python3.7/dist-packages (from kaggle->opendatasets) (2020.12.5)\n",
            "Requirement already satisfied: urllib3 in /usr/local/lib/python3.7/dist-packages (from kaggle->opendatasets) (1.24.3)\n",
            "Requirement already satisfied: idna<3,>=2.5 in /usr/local/lib/python3.7/dist-packages (from requests->kaggle->opendatasets) (2.10)\n",
            "Requirement already satisfied: chardet<4,>=3.0.2 in /usr/local/lib/python3.7/dist-packages (from requests->kaggle->opendatasets) (3.0.4)\n",
            "Requirement already satisfied: text-unidecode>=1.3 in /usr/local/lib/python3.7/dist-packages (from python-slugify->kaggle->opendatasets) (1.3)\n"
          ],
          "name": "stdout"
        }
      ]
    },
    {
      "cell_type": "code",
      "metadata": {
        "id": "xGwPMfZXzZt8"
      },
      "source": [
        "import opendatasets as od"
      ],
      "execution_count": 35,
      "outputs": []
    },
    {
      "cell_type": "code",
      "metadata": {
        "colab": {
          "base_uri": "https://localhost:8080/"
        },
        "id": "lhRVkTB_zeV1",
        "outputId": "273198da-f9bf-4aab-8bd3-01a86874cf03"
      },
      "source": [
        "od.download(\"https://www.kaggle.com/andrewmvd/face-mask-detection\")"
      ],
      "execution_count": 36,
      "outputs": [
        {
          "output_type": "stream",
          "text": [
            "Please provide your Kaggle credentials to download this dataset. Learn more: http://bit.ly/kaggle-creds\n",
            "Your Kaggle username: muttineniaishwarya\n",
            "Your Kaggle Key: ··········\n"
          ],
          "name": "stdout"
        },
        {
          "output_type": "stream",
          "text": [
            "  3%|▎         | 11.0M/398M [00:00<00:03, 111MB/s]"
          ],
          "name": "stderr"
        },
        {
          "output_type": "stream",
          "text": [
            "Downloading face-mask-detection.zip to ./face-mask-detection\n"
          ],
          "name": "stdout"
        },
        {
          "output_type": "stream",
          "text": [
            "100%|██████████| 398M/398M [00:02<00:00, 156MB/s]\n"
          ],
          "name": "stderr"
        },
        {
          "output_type": "stream",
          "text": [
            "\n"
          ],
          "name": "stdout"
        }
      ]
    },
    {
      "cell_type": "code",
      "metadata": {
        "id": "hWmfYwEO1D0F"
      },
      "source": [
        "import numpy as np\n",
        "import pandas as pd \n",
        "from bs4 import BeautifulSoup\n",
        "import matplotlib.pyplot as plt\n",
        "import os\n",
        "from tensorflow.keras.preprocessing.image import ImageDataGenerator\n",
        "from tensorflow.keras.applications import MobileNetV2\n",
        "from tensorflow.keras.layers import AveragePooling2D\n",
        "from tensorflow.keras.layers import Dropout,BatchNormalization\n",
        "from tensorflow.keras.layers import Flatten\n",
        "from tensorflow.keras.layers import Dense\n",
        "from tensorflow.keras.layers import Input\n",
        "from tensorflow.keras.models import Model\n",
        "from tensorflow.keras.optimizers import Adam\n",
        "from tensorflow.keras.applications.mobilenet_v2 import preprocess_input\n",
        "from tensorflow.keras.preprocessing.image import img_to_array\n",
        "from tensorflow.keras.preprocessing.image import load_img\n",
        "from tensorflow.keras.utils import to_categorical\n",
        "from sklearn.preprocessing import LabelEncoder\n",
        "from sklearn.model_selection import train_test_split\n",
        "from sklearn.metrics import classification_report\n",
        "import matplotlib.pyplot as plt\n",
        "import cv2\n",
        "import random as rand"
      ],
      "execution_count": 37,
      "outputs": []
    },
    {
      "cell_type": "code",
      "metadata": {
        "id": "vaK_1qEQ1Rc6"
      },
      "source": [
        "def generate_box(obj):  \n",
        "    xmin = int(obj.find('xmin').text)\n",
        "    ymin = int(obj.find('ymin').text)\n",
        "    xmax = int(obj.find('xmax').text)\n",
        "    ymax = int(obj.find('ymax').text)\n",
        "    \n",
        "    return [xmin, ymin, xmax, ymax]\n",
        "#This function will give label assciated with each label and convert them to numbers\n",
        "def generate_label(obj):\n",
        "    if obj.find('name').text == \"with_mask\":\n",
        "        return 1\n",
        "    elif obj.find('name').text == \"mask_weared_incorrect\":\n",
        "        return 2\n",
        "    return 0\n",
        "#Using in this main function we parse the annotations file and get the objects out from them\n",
        "# Also we use the above two functions here \n",
        "def generate_target(image_id, file): \n",
        "    with open(file) as f:\n",
        "        data = f.read()\n",
        "        soup = BeautifulSoup(data, 'xml')\n",
        "        objects = soup.find_all('object')\n",
        "\n",
        "        num_objs = len(objects)\n",
        "\n",
        "        boxes = []\n",
        "        labels = []\n",
        "        for i in objects:\n",
        "            boxes.append(generate_box(i))\n",
        "            labels.append(generate_label(i))\n",
        "            \n",
        "        boxes=np.array(boxes)\n",
        "        labels=np.array(labels)\n",
        "\n",
        "        img_id = np.array(image_id)\n",
        "    # Annotation is in dictionary format\n",
        "        target = {}\n",
        "        target[\"boxes\"] = boxes\n",
        "        target[\"labels\"] = labels\n",
        "        \n",
        "        return (target,num_objs)"
      ],
      "execution_count": 38,
      "outputs": []
    },
    {
      "cell_type": "code",
      "metadata": {
        "colab": {
          "base_uri": "https://localhost:8080/"
        },
        "id": "3bAU3y2R1aDp",
        "outputId": "7d52d63c-ba1d-4b15-a540-13b8761125b1"
      },
      "source": [
        "imgs = \"/content/face-mask-detection/images\"\n",
        "len(imgs)"
      ],
      "execution_count": 39,
      "outputs": [
        {
          "output_type": "execute_result",
          "data": {
            "text/plain": [
              "35"
            ]
          },
          "metadata": {
            "tags": []
          },
          "execution_count": 39
        }
      ]
    },
    {
      "cell_type": "code",
      "metadata": {
        "colab": {
          "base_uri": "https://localhost:8080/"
        },
        "id": "TrXiMZzM12GZ",
        "outputId": "547d2f88-881a-4ead-f3ec-bdac0bc76117"
      },
      "source": [
        "labels = \"/content/face-mask-detection/annotations\"\n",
        "len(labels)"
      ],
      "execution_count": 40,
      "outputs": [
        {
          "output_type": "execute_result",
          "data": {
            "text/plain": [
              "40"
            ]
          },
          "metadata": {
            "tags": []
          },
          "execution_count": 40
        }
      ]
    },
    {
      "cell_type": "code",
      "metadata": {
        "id": "pg6HJ2UQ2k6Y"
      },
      "source": [
        "targets=[]#store coordinates\n",
        "numobjs=[]#stores number of faces in each image\n",
        "#run the loop for number of images we have\n",
        "for i in range(853):\n",
        "    file_image = 'maksssksksss'+ str(i) + '.png'\n",
        "    file_label = 'maksssksksss'+ str(i) + '.xml'\n",
        "    img_path = os.path.join(\"/content/face-mask-detection/images\", file_image)\n",
        "    label_path = os.path.join(\"/content/face-mask-detection/annotations\", file_label)\n",
        "    #Generate Label\n",
        "    target,numobj = generate_target(i, label_path)\n",
        "    targets.append(target)\n",
        "    numobjs.append(numobj)"
      ],
      "execution_count": 42,
      "outputs": []
    },
    {
      "cell_type": "code",
      "metadata": {
        "id": "0u2Z64zF3V1n"
      },
      "source": [
        "import cv2\n",
        "import matplotlib.pyplot as plt\n",
        "from tensorflow.keras.applications.mobilenet_v2 import preprocess_input\n",
        "from tensorflow.keras.preprocessing.image import img_to_array\n",
        "face_images=[]\n",
        "face_labels=[]\n",
        "for i in range(35):\n",
        "    img_path = r\"../content/face-mask-detection/images/maksssksksss{}.png\".format(i)\n",
        "    #read image\n",
        "    img = cv2.imread(img_path)\n",
        "    for j in range(numobjs[i]):\n",
        "#       get coordinates of ith image in list \n",
        "        locs=(targets[i]['boxes'][j])\n",
        "#     Get the face from the image using the coordinates\n",
        "#the arguments are as ymin , ymax and xmin xmax\n",
        "        img1=img[locs[1]:locs[3],locs[0]:locs[2]]\n",
        "        img1 = cv2.resize(img1, (224, 224))\n",
        "        img1 = img_to_array(img1)\n",
        "        img1 = preprocess_input(img1)\n",
        "        face_images.append(img1)\n",
        "        face_labels.append(targets[i]['labels'][j])\n",
        "\n",
        "face_images= np.array(face_images, dtype=\"float32\")\n",
        "face_labels = np.array(face_labels)"
      ],
      "execution_count": 43,
      "outputs": []
    },
    {
      "cell_type": "code",
      "metadata": {
        "colab": {
          "base_uri": "https://localhost:8080/"
        },
        "id": "kY_Fam9Z3ooT",
        "outputId": "2b451e17-83b8-471e-db79-26280e980584"
      },
      "source": [
        "len(face_labels)"
      ],
      "execution_count": 44,
      "outputs": [
        {
          "output_type": "execute_result",
          "data": {
            "text/plain": [
              "124"
            ]
          },
          "metadata": {
            "tags": []
          },
          "execution_count": 44
        }
      ]
    },
    {
      "cell_type": "code",
      "metadata": {
        "colab": {
          "base_uri": "https://localhost:8080/"
        },
        "id": "IqPXZ21R3saD",
        "outputId": "8173b243-0848-4977-e63e-03bcd9bf2576"
      },
      "source": [
        "unique, counts = np.unique(face_labels, return_counts=True)\n",
        "dict(zip(unique, counts))"
      ],
      "execution_count": 45,
      "outputs": [
        {
          "output_type": "execute_result",
          "data": {
            "text/plain": [
              "{0: 17, 1: 100, 2: 7}"
            ]
          },
          "metadata": {
            "tags": []
          },
          "execution_count": 45
        }
      ]
    },
    {
      "cell_type": "code",
      "metadata": {
        "colab": {
          "base_uri": "https://localhost:8080/"
        },
        "id": "4sF3Tktg3v4y",
        "outputId": "163c4f1f-cf3d-41fb-c25d-ff46206af7fe"
      },
      "source": [
        "lb = LabelEncoder()\n",
        "labels = lb.fit_transform(face_labels)\n",
        "labels = to_categorical(labels)\n",
        "labels"
      ],
      "execution_count": 46,
      "outputs": [
        {
          "output_type": "execute_result",
          "data": {
            "text/plain": [
              "array([[1., 0., 0.],\n",
              "       [0., 1., 0.],\n",
              "       [1., 0., 0.],\n",
              "       [0., 1., 0.],\n",
              "       [0., 1., 0.],\n",
              "       [0., 1., 0.],\n",
              "       [0., 1., 0.],\n",
              "       [0., 1., 0.],\n",
              "       [0., 1., 0.],\n",
              "       [0., 1., 0.],\n",
              "       [0., 1., 0.],\n",
              "       [1., 0., 0.],\n",
              "       [0., 1., 0.],\n",
              "       [0., 1., 0.],\n",
              "       [0., 1., 0.],\n",
              "       [0., 0., 1.],\n",
              "       [0., 1., 0.],\n",
              "       [0., 1., 0.],\n",
              "       [0., 1., 0.],\n",
              "       [0., 1., 0.],\n",
              "       [0., 1., 0.],\n",
              "       [0., 1., 0.],\n",
              "       [0., 1., 0.],\n",
              "       [0., 1., 0.],\n",
              "       [0., 1., 0.],\n",
              "       [0., 1., 0.],\n",
              "       [0., 1., 0.],\n",
              "       [1., 0., 0.],\n",
              "       [1., 0., 0.],\n",
              "       [0., 1., 0.],\n",
              "       [0., 1., 0.],\n",
              "       [0., 1., 0.],\n",
              "       [0., 1., 0.],\n",
              "       [0., 1., 0.],\n",
              "       [1., 0., 0.],\n",
              "       [0., 1., 0.],\n",
              "       [0., 0., 1.],\n",
              "       [1., 0., 0.],\n",
              "       [0., 1., 0.],\n",
              "       [0., 0., 1.],\n",
              "       [0., 1., 0.],\n",
              "       [0., 1., 0.],\n",
              "       [0., 1., 0.],\n",
              "       [0., 1., 0.],\n",
              "       [0., 1., 0.],\n",
              "       [0., 1., 0.],\n",
              "       [0., 1., 0.],\n",
              "       [0., 1., 0.],\n",
              "       [0., 1., 0.],\n",
              "       [0., 1., 0.],\n",
              "       [0., 1., 0.],\n",
              "       [0., 1., 0.],\n",
              "       [0., 1., 0.],\n",
              "       [0., 1., 0.],\n",
              "       [0., 1., 0.],\n",
              "       [0., 1., 0.],\n",
              "       [0., 1., 0.],\n",
              "       [0., 1., 0.],\n",
              "       [0., 1., 0.],\n",
              "       [0., 1., 0.],\n",
              "       [0., 1., 0.],\n",
              "       [0., 1., 0.],\n",
              "       [0., 1., 0.],\n",
              "       [0., 1., 0.],\n",
              "       [0., 1., 0.],\n",
              "       [1., 0., 0.],\n",
              "       [0., 1., 0.],\n",
              "       [0., 1., 0.],\n",
              "       [0., 1., 0.],\n",
              "       [0., 1., 0.],\n",
              "       [0., 0., 1.],\n",
              "       [0., 1., 0.],\n",
              "       [0., 1., 0.],\n",
              "       [0., 1., 0.],\n",
              "       [1., 0., 0.],\n",
              "       [0., 1., 0.],\n",
              "       [0., 1., 0.],\n",
              "       [0., 1., 0.],\n",
              "       [0., 1., 0.],\n",
              "       [0., 1., 0.],\n",
              "       [0., 1., 0.],\n",
              "       [1., 0., 0.],\n",
              "       [0., 1., 0.],\n",
              "       [1., 0., 0.],\n",
              "       [0., 1., 0.],\n",
              "       [0., 1., 0.],\n",
              "       [1., 0., 0.],\n",
              "       [0., 1., 0.],\n",
              "       [0., 1., 0.],\n",
              "       [0., 1., 0.],\n",
              "       [0., 1., 0.],\n",
              "       [0., 1., 0.],\n",
              "       [1., 0., 0.],\n",
              "       [0., 1., 0.],\n",
              "       [0., 1., 0.],\n",
              "       [0., 0., 1.],\n",
              "       [0., 1., 0.],\n",
              "       [0., 1., 0.],\n",
              "       [0., 1., 0.],\n",
              "       [0., 1., 0.],\n",
              "       [0., 1., 0.],\n",
              "       [0., 1., 0.],\n",
              "       [0., 0., 1.],\n",
              "       [0., 0., 1.],\n",
              "       [0., 1., 0.],\n",
              "       [1., 0., 0.],\n",
              "       [0., 1., 0.],\n",
              "       [0., 1., 0.],\n",
              "       [0., 1., 0.],\n",
              "       [1., 0., 0.],\n",
              "       [0., 1., 0.],\n",
              "       [0., 1., 0.],\n",
              "       [0., 1., 0.],\n",
              "       [0., 1., 0.],\n",
              "       [0., 1., 0.],\n",
              "       [0., 1., 0.],\n",
              "       [0., 1., 0.],\n",
              "       [0., 1., 0.],\n",
              "       [0., 1., 0.],\n",
              "       [1., 0., 0.],\n",
              "       [0., 1., 0.],\n",
              "       [0., 1., 0.],\n",
              "       [0., 1., 0.],\n",
              "       [1., 0., 0.]], dtype=float32)"
            ]
          },
          "metadata": {
            "tags": []
          },
          "execution_count": 46
        }
      ]
    },
    {
      "cell_type": "code",
      "metadata": {
        "id": "WOWq_cw8318t"
      },
      "source": [
        "aug = ImageDataGenerator(\n",
        "    zoom_range=0.1,\n",
        "    rotation_range=25,\n",
        "    width_shift_range=0.1,\n",
        "    height_shift_range=0.1,\n",
        "    shear_range=0.15,\n",
        "    horizontal_flip=True,\n",
        "    fill_mode=\"nearest\"\n",
        "    )"
      ],
      "execution_count": 47,
      "outputs": []
    },
    {
      "cell_type": "code",
      "metadata": {
        "id": "Ga1phd8235Ps"
      },
      "source": [
        "baseModel = MobileNetV2(weights=\"imagenet\", include_top=False,\n",
        "\tinput_shape=(224, 224, 3))\n",
        "\n",
        "# construct the head of the model that will be placed on top of the\n",
        "# the base model\n",
        "headModel = baseModel.output\n",
        "headModel = AveragePooling2D(pool_size=(7, 7))(headModel)\n",
        "headModel = Flatten(name=\"flatten\")(headModel)\n",
        "headModel = Dense(256, activation=\"relu\")(headModel)\n",
        "headModel = Dropout(0.25)(headModel)\n",
        "headModel = Dense(3, activation=\"softmax\")(headModel)\n",
        "\n",
        "# place the head FC model on top of the base model (this will become\n",
        "# the actual model we will train)\n",
        "model = Model(inputs=baseModel.input, outputs=headModel)\n",
        "\n",
        "# loop over all layers in the base model and freeze them so they will\n",
        "# *not* be updated during the first training process\n",
        "for layer in baseModel.layers:\n",
        "\tlayer.trainable = False"
      ],
      "execution_count": 48,
      "outputs": []
    },
    {
      "cell_type": "code",
      "metadata": {
        "id": "3cL4zMOs3_mN"
      },
      "source": [
        "INIT_LR = 1e-4\n",
        "EPOCHS = 30\n",
        "BS = 32"
      ],
      "execution_count": 49,
      "outputs": []
    },
    {
      "cell_type": "code",
      "metadata": {
        "id": "c7GD1mt94EIL"
      },
      "source": [
        "(trainX, testX, trainY, testY) = train_test_split(face_images, labels,\n",
        "\ttest_size=0.2, stratify=labels, random_state=42)"
      ],
      "execution_count": 50,
      "outputs": []
    },
    {
      "cell_type": "code",
      "metadata": {
        "id": "76vU5gZg4HGD"
      },
      "source": [
        "del targets,face_images,face_labels"
      ],
      "execution_count": 51,
      "outputs": []
    },
    {
      "cell_type": "code",
      "metadata": {
        "colab": {
          "base_uri": "https://localhost:8080/"
        },
        "id": "1RDG31LP4J4S",
        "outputId": "508a6b91-e56f-487d-b7bb-0525212b7169"
      },
      "source": [
        "opt = Adam(lr=INIT_LR, decay=INIT_LR / EPOCHS)\n",
        "model.compile(loss=\"categorical_crossentropy\", optimizer=opt,\n",
        "\tmetrics=[\"accuracy\"])\n",
        "\n",
        "# train the head of the network\n",
        "H = model.fit(\n",
        "\taug.flow(trainX, trainY, batch_size=BS),\n",
        "\tsteps_per_epoch=len(trainX) // BS,\n",
        "\tvalidation_data=(testX, testY),\n",
        "\tvalidation_steps=len(testX) // BS,\n",
        "\tepochs=EPOCHS,\n",
        "class_weight = {0:5 , 1:1, 2:10})"
      ],
      "execution_count": 54,
      "outputs": [
        {
          "output_type": "stream",
          "text": [
            "/usr/local/lib/python3.7/dist-packages/tensorflow/python/keras/optimizer_v2/optimizer_v2.py:375: UserWarning: The `lr` argument is deprecated, use `learning_rate` instead.\n",
            "  \"The `lr` argument is deprecated, use `learning_rate` instead.\")\n"
          ],
          "name": "stderr"
        },
        {
          "output_type": "stream",
          "text": [
            "Epoch 1/30\n",
            "3/3 [==============================] - 5s 510ms/step - loss: 0.6089 - accuracy: 0.8955\n",
            "Epoch 2/30\n",
            "3/3 [==============================] - 2s 496ms/step - loss: 1.0389 - accuracy: 0.8955\n",
            "Epoch 3/30\n",
            "3/3 [==============================] - 2s 467ms/step - loss: 0.9288 - accuracy: 0.7910\n",
            "Epoch 4/30\n",
            "3/3 [==============================] - 2s 491ms/step - loss: 0.6024 - accuracy: 0.7612\n",
            "Epoch 5/30\n",
            "3/3 [==============================] - 2s 1s/step - loss: 0.6706 - accuracy: 0.8060\n",
            "Epoch 6/30\n",
            "3/3 [==============================] - 2s 1s/step - loss: 0.7182 - accuracy: 0.8955\n",
            "Epoch 7/30\n",
            "3/3 [==============================] - 2s 523ms/step - loss: 0.5245 - accuracy: 0.8955\n",
            "Epoch 8/30\n",
            "3/3 [==============================] - 3s 834ms/step - loss: 0.5930 - accuracy: 0.8646\n",
            "Epoch 9/30\n",
            "3/3 [==============================] - 2s 1s/step - loss: 0.4739 - accuracy: 0.8806\n",
            "Epoch 10/30\n",
            "3/3 [==============================] - 2s 1s/step - loss: 0.6998 - accuracy: 0.9254\n",
            "Epoch 11/30\n",
            "3/3 [==============================] - 2s 478ms/step - loss: 0.5557 - accuracy: 0.9104\n",
            "Epoch 12/30\n",
            "3/3 [==============================] - 2s 539ms/step - loss: 0.3946 - accuracy: 0.8657\n",
            "Epoch 13/30\n",
            "3/3 [==============================] - 2s 510ms/step - loss: 0.5261 - accuracy: 0.9104\n",
            "Epoch 14/30\n",
            "3/3 [==============================] - 3s 830ms/step - loss: 0.5120 - accuracy: 0.8854\n",
            "Epoch 15/30\n",
            "3/3 [==============================] - 2s 462ms/step - loss: 0.7104 - accuracy: 0.9104\n",
            "Epoch 16/30\n",
            "3/3 [==============================] - 3s 811ms/step - loss: 0.4253 - accuracy: 0.8854\n",
            "Epoch 17/30\n",
            "3/3 [==============================] - 3s 820ms/step - loss: 0.4758 - accuracy: 0.8750\n",
            "Epoch 18/30\n",
            "3/3 [==============================] - 2s 487ms/step - loss: 0.3863 - accuracy: 0.9403\n",
            "Epoch 19/30\n",
            "3/3 [==============================] - 2s 510ms/step - loss: 0.5399 - accuracy: 0.9104\n",
            "Epoch 20/30\n",
            "3/3 [==============================] - 2s 1s/step - loss: 0.5813 - accuracy: 0.8209\n",
            "Epoch 21/30\n",
            "3/3 [==============================] - 2s 489ms/step - loss: 0.3053 - accuracy: 0.9403\n",
            "Epoch 22/30\n",
            "3/3 [==============================] - 3s 799ms/step - loss: 0.4372 - accuracy: 0.9167\n",
            "Epoch 23/30\n",
            "3/3 [==============================] - 2s 494ms/step - loss: 0.4028 - accuracy: 0.9403\n",
            "Epoch 24/30\n",
            "3/3 [==============================] - 2s 1s/step - loss: 0.2959 - accuracy: 0.9254\n",
            "Epoch 25/30\n",
            "3/3 [==============================] - 2s 1s/step - loss: 0.4001 - accuracy: 0.9552\n",
            "Epoch 26/30\n",
            "3/3 [==============================] - 3s 829ms/step - loss: 0.6236 - accuracy: 0.8750\n",
            "Epoch 27/30\n",
            "3/3 [==============================] - 2s 472ms/step - loss: 0.3557 - accuracy: 0.9403\n",
            "Epoch 28/30\n",
            "3/3 [==============================] - 2s 492ms/step - loss: 0.2978 - accuracy: 0.9701\n",
            "Epoch 29/30\n",
            "3/3 [==============================] - 3s 1s/step - loss: 0.3939 - accuracy: 0.9104\n",
            "Epoch 30/30\n",
            "3/3 [==============================] - 2s 483ms/step - loss: 0.4006 - accuracy: 0.9254\n"
          ],
          "name": "stdout"
        }
      ]
    },
    {
      "cell_type": "code",
      "metadata": {
        "colab": {
          "base_uri": "https://localhost:8080/",
          "height": 484
        },
        "id": "BDYgsUE34zb7",
        "outputId": "bff41aa9-1cab-4869-96bf-fe050a9e22d9"
      },
      "source": [
        "print(\"[INFO] evaluating network...\")\n",
        "predIdxs = model.predict(testX, batch_size=32)\n",
        "\n",
        "# for each image in the testing set we need to find the index of the\n",
        "# label with corresponding largest predicted probability\n",
        "predIdxs = np.argmax(predIdxs, axis=1)\n",
        "\n",
        "# show a nicely formatted classification report\n",
        "print(classification_report(testY.argmax(axis=1), predIdxs\n",
        "\t))\n",
        "\n",
        "# # serialize the model to disk\n",
        "# print(\"[INFO] saving mask detector model...\")\n",
        "\n",
        "# plot the training loss and accuracy\n",
        "N = EPOCHS\n",
        "plt.style.use(\"ggplot\")\n",
        "plt.figure()\n",
        "plt.plot(np.arange(0, N), H.history[\"loss\"], label=\"train_loss\")\n",
        "plt.plot(np.arange(0, N), H.history[\"accuracy\"], label=\"train_acc\")\n",
        "plt.title(\"Training Loss and Accuracy\")\n",
        "plt.xlabel(\"Epoch #\")\n",
        "plt.ylabel(\"Loss/Accuracy\")\n",
        "plt.legend(loc=\"lower left\")\n",
        "plt.show()"
      ],
      "execution_count": 55,
      "outputs": [
        {
          "output_type": "stream",
          "text": [
            "[INFO] evaluating network...\n",
            "              precision    recall  f1-score   support\n",
            "\n",
            "           0       1.00      0.75      0.86         4\n",
            "           1       0.90      0.95      0.93        20\n",
            "           2       0.00      0.00      0.00         1\n",
            "\n",
            "    accuracy                           0.88        25\n",
            "   macro avg       0.63      0.57      0.59        25\n",
            "weighted avg       0.88      0.88      0.88        25\n",
            "\n"
          ],
          "name": "stdout"
        },
        {
          "output_type": "display_data",
          "data": {
            "image/png": "[encoded data removed]",
            "text/plain": [
              "<Figure size 432x288 with 1 Axes>"
            ]
          },
          "metadata": {
            "tags": []
          }
        }
      ]
    },
    {
      "cell_type": "code",
      "metadata": {
        "colab": {
          "base_uri": "https://localhost:8080/"
        },
        "id": "F4h8Y5pr5-LI",
        "outputId": "d3eff3ee-c473-4de9-dd40-f4c2a75c98d8"
      },
      "source": [
        "model.save('model.h5')"
      ],
      "execution_count": 66,
      "outputs": [
        {
          "output_type": "stream",
          "text": [
            "/usr/local/lib/python3.7/dist-packages/keras/utils/generic_utils.py:497: CustomMaskWarning: Custom mask layers require a config and must override get_config. When loading, the custom mask layer must be passed to the custom_objects argument.\n",
            "  category=CustomMaskWarning)\n"
          ],
          "name": "stderr"
        }
      ]
    },
    {
      "cell_type": "code",
      "metadata": {
        "id": "1CofSzZv9IK9"
      },
      "source": [
        "import keras\n",
        "model = keras.models.load_model('model.h5')"
      ],
      "execution_count": 67,
      "outputs": []
    },
    {
      "cell_type": "code",
      "metadata": {
        "colab": {
          "base_uri": "https://localhost:8080/"
        },
        "id": "0EHwNgPO9PaL",
        "outputId": "d600f341-73f5-40ad-f7f0-a6d5aab61895"
      },
      "source": [
        "print(\"[INFO] compiling model...\")\n",
        "opt = Adam(lr=INIT_LR, decay=INIT_LR / EPOCHS)\n",
        "model.compile(loss=\"categorical_crossentropy\", optimizer=opt,\n",
        "\tmetrics=[\"accuracy\"])\n",
        "\n",
        "# train the head of the network\n",
        "print(\"[INFO] training head...\")\n",
        "H = model.fit(\n",
        "\taug.flow(trainX, trainY, batch_size=BS),\n",
        "\tsteps_per_epoch=len(trainX) // BS,\n",
        "\tvalidation_data=(testX, testY),\n",
        "\tvalidation_steps=len(testX) // BS,\n",
        "\tepochs=EPOCHS,\n",
        "class_weight = {0:5 , 1:1, 2:10})"
      ],
      "execution_count": 59,
      "outputs": [
        {
          "output_type": "stream",
          "text": [
            "[INFO] compiling model...\n",
            "[INFO] training head...\n"
          ],
          "name": "stdout"
        },
        {
          "output_type": "stream",
          "text": [
            "/usr/local/lib/python3.7/dist-packages/tensorflow/python/keras/optimizer_v2/optimizer_v2.py:375: UserWarning: The `lr` argument is deprecated, use `learning_rate` instead.\n",
            "  \"The `lr` argument is deprecated, use `learning_rate` instead.\")\n"
          ],
          "name": "stderr"
        },
        {
          "output_type": "stream",
          "text": [
            "Epoch 1/30\n",
            "3/3 [==============================] - 28s 1s/step - loss: 0.4885 - accuracy: 0.9245\n",
            "Epoch 2/30\n",
            "3/3 [==============================] - 2s 1s/step - loss: 0.3884 - accuracy: 0.9562\n",
            "Epoch 3/30\n",
            "3/3 [==============================] - 2s 633ms/step - loss: 0.3242 - accuracy: 0.9402\n",
            "Epoch 4/30\n",
            "3/3 [==============================] - 2s 574ms/step - loss: 0.4753 - accuracy: 0.8934\n",
            "Epoch 5/30\n",
            "3/3 [==============================] - 3s 1s/step - loss: 0.3826 - accuracy: 0.9271\n",
            "Epoch 6/30\n",
            "3/3 [==============================] - 2s 1s/step - loss: 0.3032 - accuracy: 0.8971\n",
            "Epoch 7/30\n",
            "3/3 [==============================] - 2s 561ms/step - loss: 0.3356 - accuracy: 0.9477\n",
            "Epoch 8/30\n",
            "3/3 [==============================] - 2s 616ms/step - loss: 0.3586 - accuracy: 0.8970\n",
            "Epoch 9/30\n",
            "3/3 [==============================] - 3s 1s/step - loss: 0.3277 - accuracy: 0.9427\n",
            "Epoch 10/30\n",
            "3/3 [==============================] - 2s 1s/step - loss: 0.3392 - accuracy: 0.8579\n",
            "Epoch 11/30\n",
            "3/3 [==============================] - 2s 597ms/step - loss: 0.2298 - accuracy: 0.9627\n",
            "Epoch 12/30\n",
            "3/3 [==============================] - 2s 606ms/step - loss: 0.2712 - accuracy: 0.9773\n",
            "Epoch 13/30\n",
            "3/3 [==============================] - 3s 1s/step - loss: 0.2830 - accuracy: 0.9766\n",
            "Epoch 14/30\n",
            "3/3 [==============================] - 2s 1s/step - loss: 0.4424 - accuracy: 0.8505\n",
            "Epoch 15/30\n",
            "3/3 [==============================] - 2s 613ms/step - loss: 0.2314 - accuracy: 0.9776\n",
            "Epoch 16/30\n",
            "3/3 [==============================] - 2s 577ms/step - loss: 0.2393 - accuracy: 0.9503\n",
            "Epoch 17/30\n",
            "3/3 [==============================] - 3s 1s/step - loss: 0.2726 - accuracy: 0.9609\n",
            "Epoch 18/30\n",
            "3/3 [==============================] - 2s 1s/step - loss: 0.3206 - accuracy: 0.9484\n",
            "Epoch 19/30\n",
            "3/3 [==============================] - 2s 639ms/step - loss: 0.3401 - accuracy: 0.9253\n",
            "Epoch 20/30\n",
            "3/3 [==============================] - 2s 577ms/step - loss: 0.3944 - accuracy: 0.9119\n",
            "Epoch 21/30\n",
            "3/3 [==============================] - 3s 1s/step - loss: 0.2243 - accuracy: 0.9362\n",
            "Epoch 22/30\n",
            "3/3 [==============================] - 2s 1s/step - loss: 0.3035 - accuracy: 0.8433\n",
            "Epoch 23/30\n",
            "3/3 [==============================] - 2s 643ms/step - loss: 0.1570 - accuracy: 1.0000\n",
            "Epoch 24/30\n",
            "3/3 [==============================] - 2s 568ms/step - loss: 0.3815 - accuracy: 0.9389\n",
            "Epoch 25/30\n",
            "3/3 [==============================] - 3s 1s/step - loss: 0.2235 - accuracy: 0.9740\n",
            "Epoch 26/30\n",
            "3/3 [==============================] - 2s 1s/step - loss: 0.9633 - accuracy: 0.8729\n",
            "Epoch 27/30\n",
            "3/3 [==============================] - 2s 624ms/step - loss: 0.2482 - accuracy: 0.9555\n",
            "Epoch 28/30\n",
            "3/3 [==============================] - 2s 579ms/step - loss: 0.2434 - accuracy: 0.9694\n",
            "Epoch 29/30\n",
            "3/3 [==============================] - 3s 1s/step - loss: 0.1635 - accuracy: 0.9570\n",
            "Epoch 30/30\n",
            "3/3 [==============================] - 2s 1s/step - loss: 0.1186 - accuracy: 1.0000\n"
          ],
          "name": "stdout"
        }
      ]
    },
    {
      "cell_type": "code",
      "metadata": {
        "colab": {
          "base_uri": "https://localhost:8080/",
          "height": 484
        },
        "id": "sMpS4yKZ9vny",
        "outputId": "36b30128-7985-4f93-fa14-5665a2116b90"
      },
      "source": [
        "print(\"[INFO] evaluating network...\")\n",
        "predIdxs = model.predict(testX, batch_size=32)\n",
        "\n",
        "# for each image in the testing set we need to find the index of the\n",
        "# label with corresponding largest predicted probability\n",
        "predIdxs = np.argmax(predIdxs, axis=1)\n",
        "\n",
        "# show a nicely formatted classification report\n",
        "print(classification_report(testY.argmax(axis=1), predIdxs\n",
        "\t))\n",
        "\n",
        "# # serialize the model to disk\n",
        "# print(\"[INFO] saving mask detector model...\")\n",
        "\n",
        "# plot the training loss and accuracy\n",
        "N = EPOCHS\n",
        "plt.style.use(\"ggplot\")\n",
        "plt.figure()\n",
        "plt.plot(np.arange(0, N), H.history[\"loss\"], label=\"train_loss\")\n",
        "plt.plot(np.arange(0, N), H.history[\"accuracy\"], label=\"train_acc\")\n",
        "plt.title(\"Training Loss and Accuracy\")\n",
        "plt.xlabel(\"Epoch #\")\n",
        "plt.ylabel(\"Loss/Accuracy\")\n",
        "plt.legend(loc=\"lower left\")\n",
        "plt.show()"
      ],
      "execution_count": 63,
      "outputs": [
        {
          "output_type": "stream",
          "text": [
            "[INFO] evaluating network...\n",
            "              precision    recall  f1-score   support\n",
            "\n",
            "           0       1.00      0.75      0.86         4\n",
            "           1       0.90      0.95      0.93        20\n",
            "           2       0.00      0.00      0.00         1\n",
            "\n",
            "    accuracy                           0.88        25\n",
            "   macro avg       0.63      0.57      0.59        25\n",
            "weighted avg       0.88      0.88      0.88        25\n",
            "\n"
          ],
          "name": "stdout"
        },
        {
          "output_type": "display_data",
          "data": {
            "image/png": "[encoded data removed]",
            "text/plain": [
              "<Figure size 432x288 with 1 Axes>"
            ]
          },
          "metadata": {
            "tags": []
          }
        }
      ]
    }
  ]
}