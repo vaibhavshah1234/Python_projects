{
  "nbformat": 4,
  "nbformat_minor": 0,
  "metadata": {
    "colab": {
      "name": "Building_Barcode_and_QR_code_Reader_with_Python_and_Machine_Learning.ipynb",
      "provenance": []
    },
    "kernelspec": {
      "name": "python3",
      "display_name": "Python 3"
    },
    "language_info": {
      "name": "python"
    }
  },
  "cells": [
    {
      "cell_type": "code",
      "metadata": {
        "id": "LLb3QSFfxiUX"
      },
      "source": [
        "#Aishwarya Muttineni"
      ],
      "execution_count": null,
      "outputs": []
    },
    {
      "cell_type": "code",
      "metadata": {
        "colab": {
          "base_uri": "https://localhost:8080/"
        },
        "id": "skGjiwjgVwM4",
        "outputId": "c8bba5e2-0119-456b-970a-fd098df32be5"
      },
      "source": [
        "!pip install pyzbar"
      ],
      "execution_count": null,
      "outputs": [
        {
          "output_type": "stream",
          "text": [
            "Requirement already satisfied: pyzbar in /usr/local/lib/python3.7/dist-packages (0.1.8)\n"
          ],
          "name": "stdout"
        }
      ]
    },
    {
      "cell_type": "code",
      "metadata": {
        "colab": {
          "base_uri": "https://localhost:8080/"
        },
        "id": "K9FiHSlEWMoX",
        "outputId": "d12aa394-39a8-495a-a0ae-0e232012da9d"
      },
      "source": [
        "!sudo apt-get install zbar-tools"
      ],
      "execution_count": null,
      "outputs": [
        {
          "output_type": "stream",
          "text": [
            "Reading package lists... Done\n",
            "Building dependency tree       \n",
            "Reading state information... Done\n",
            "zbar-tools is already the newest version (0.10+doc-10.1build2).\n",
            "The following package was automatically installed and is no longer required:\n",
            "  libnvidia-common-460\n",
            "Use 'sudo apt autoremove' to remove it.\n",
            "0 upgraded, 0 newly installed, 0 to remove and 34 not upgraded.\n"
          ],
          "name": "stdout"
        }
      ]
    },
    {
      "cell_type": "code",
      "metadata": {
        "id": "IzFMBMYUVn6A"
      },
      "source": [
        "import cv2\n",
        "from pyzbar import pyzbar"
      ],
      "execution_count": null,
      "outputs": []
    },
    {
      "cell_type": "code",
      "metadata": {
        "id": "TcNt2o07Wlts"
      },
      "source": [
        "def read_barcodes(frame):\n",
        "    barcodes = pyzbar.decode(frame)\n",
        "    for barcode in barcodes:\n",
        "        x, y , w, h = barcode.rect\n",
        "        barcode_info = barcode.data.decode('utf-8')\n",
        "        cv2.rectangle(frame, (x, y),(x+w, y+h), (0, 255, 0), 2)\n",
        "        \n",
        "        font = cv2.FONT_HERSHEY_DUPLEX\n",
        "        cv2.putText(frame, barcode_info, (x + 6, y - 6), font, 2.0, (255, 255, 255), 1)\n",
        "        with open(\"barcode_result.txt\", mode ='w') as file:\n",
        "            file.write(\"Recognized Barcode:\" + barcode_info)\n",
        "    return frame"
      ],
      "execution_count": null,
      "outputs": []
    },
    {
      "cell_type": "code",
      "metadata": {
        "id": "Da6RBDNnWo09"
      },
      "source": [
        "def main():\n",
        "    camera = cv2.VideoCapture(0)\n",
        "    ret, frame = camera.read()\n",
        "    while ret:\n",
        "        ret, frame = camera.read()\n",
        "        frame = read_barcode(frame)\n",
        "        cv2.imshow('Barcode/QR code reader', frame)\n",
        "        if cv2.waitKey(1) & 0xFF == 27:\n",
        "            break\n",
        "    camera.release()\n",
        "    cv2.destroyAllWindows()\n",
        "if __name__ == '__main__':\n",
        "    main()"
      ],
      "execution_count": null,
      "outputs": []
    }
  ]
}