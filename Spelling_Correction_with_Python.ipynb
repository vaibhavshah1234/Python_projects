{
  "nbformat": 4,
  "nbformat_minor": 0,
  "metadata": {
    "colab": {
      "name": "Spelling_Correction_with_Python.ipynb",
      "provenance": [],
      "collapsed_sections": []
    },
    "kernelspec": {
      "name": "python3",
      "display_name": "Python 3"
    },
    "language_info": {
      "name": "python"
    }
  },
  "cells": [
    {
      "cell_type": "code",
      "metadata": {
        "colab": {
          "base_uri": "https://localhost:8080/"
        },
        "id": "DstJbV7eR7JF",
        "outputId": "fb7c88ea-fd7e-4049-df66-e68c860eaba1"
      },
      "source": [
        "from textblob import TextBlob\n",
        "words = [\"corect\", \"assocciation\"]\n",
        "corrected_words = []\n",
        "for i in words:\n",
        "    corrected_words.append(TextBlob(i))\n",
        "print(\"Wrong words :\", words)\n",
        "print(\"Corrected Words are :\")\n",
        "for i in corrected_words:\n",
        "    print(i.correct(), end=\" \")\n",
        "#Aishwarya Muttineni"
      ],
      "execution_count": null,
      "outputs": [
        {
          "output_type": "stream",
          "text": [
            "Wrong words : ['corect', 'assocciation']\n",
            "Corrected Words are :\n",
            "correct association "
          ],
          "name": "stdout"
        }
      ]
    }
  ]
}