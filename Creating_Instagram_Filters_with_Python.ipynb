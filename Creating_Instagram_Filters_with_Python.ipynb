{
 "cells": [
  {
   "cell_type": "code",
   "execution_count": null,
   "metadata": {
    "id": "BlyuRnJkya1A"
   },
   "outputs": [],
   "source": []
  },
  {
   "cell_type": "code",
   "execution_count": null,
   "metadata": {
    "colab": {
     "base_uri": "https://localhost:8080/"
    },
    "id": "WZtgV6XaraKu",
    "outputId": "7b975c64-5aa8-4439-8842-d7f314eb738f"
   },
   "outputs": [],
   "source": [
    "!pip install instafilter"
   ]
  },
  {
   "cell_type": "code",
   "execution_count": 9,
   "metadata": {
    "colab": {
     "base_uri": "https://localhost:8080/",
     "height": 930
    },
    "id": "uKcjEg6nsiZF",
    "outputId": "7585a093-8c7e-4d94-9c9a-bb4b49ab51a0"
   },
   "outputs": [
    {
     "data": {
      "text/plain": [
       "-1"
      ]
     },
     "execution_count": 9,
     "metadata": {},
     "output_type": "execute_result"
    }
   ],
   "source": [
    "import cv2\n",
    "input= cv2.imread('my pic.jpg')\n",
    "cv2.imshow(\"my pic.jpg\", input)\n",
    "\n",
    "cv2.waitKey(0)"
   ]
  },
  {
   "cell_type": "code",
   "execution_count": null,
   "metadata": {},
   "outputs": [],
   "source": [
    "from instafilter import Instafilter\n",
    "import cv2\n",
    "import torch\n",
    "from torch import nn\n",
    "\n",
    "model = Instafilter(\"Juno\", device=\"cpu\")\n",
    "new_image = model(\"my pic.jpg\")\n",
    "\n",
    "# To save the image, use cv2\n",
    "import cv2\n",
    "cv2.imwrite(\"modified_my_pic.jpg\", new_image)\n",
    "cv2_imshow(new_image)"
   ]
  },
  {
   "cell_type": "code",
   "execution_count": null,
   "metadata": {},
   "outputs": [],
   "source": [
    "from instafilter import Instafilter\n",
    "\n",
    "\n",
    "model = Instafilter(\"Lo-Fi\",device=\"cpu\")\n",
    "new_image = model(\"Aishu.jpg\")\n",
    "\n",
    "# To save the image, use cv2\n",
    "import cv2\n",
    "cv2.imwrite(\"modified_my_pic.jpg\", new_image)\n",
    "cv2_imshow(new_image)"
   ]
  }
 ],
 "metadata": {
  "accelerator": "GPU",
  "colab": {
   "collapsed_sections": [],
   "name": "Creating_Instagram_Filters_with_Python.ipynb",
   "provenance": []
  },
  "kernelspec": {
   "display_name": "Python 3",
   "language": "python",
   "name": "python3"
  },
  "language_info": {
   "codemirror_mode": {
    "name": "ipython",
    "version": 3
   },
   "file_extension": ".py",
   "mimetype": "text/x-python",
   "name": "python",
   "nbconvert_exporter": "python",
   "pygments_lexer": "ipython3",
   "version": "3.7.6"
  }
 },
 "nbformat": 4,
 "nbformat_minor": 1
}
